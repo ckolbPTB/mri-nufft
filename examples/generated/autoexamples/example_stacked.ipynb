{
  "cells": [
    {
      "cell_type": "markdown",
      "metadata": {},
      "source": [
        "\n# Stacked NUFFT Operator\n\nExample of Stacked NUFFT trajectory operator.\n\nThis examples show how to use the Stacked NUFFT operator to acquire and reconstruct data\nin kspace where the sampling of pattern is a stack of non cartesian trajectory.\nHere a stack of spiral is used as a demonstration.\n"
      ]
    },
    {
      "cell_type": "code",
      "execution_count": null,
      "metadata": {
        "collapsed": false
      },
      "outputs": [],
      "source": [
        "import matplotlib.pyplot as plt\nimport numpy as np\n\nfrom mrinufft import display_2D_trajectory\n\nplt.rcParams[\"image.cmap\"] = \"gray\""
      ]
    },
    {
      "cell_type": "markdown",
      "metadata": {},
      "source": [
        "## Data Generation\nFor realistic 3D images we will use the brainweb dataset.\ninstallable using ``pip install brainweb-dl``\n\n"
      ]
    },
    {
      "cell_type": "code",
      "execution_count": null,
      "metadata": {
        "collapsed": false
      },
      "outputs": [],
      "source": [
        "from brainweb_dl import get_mri\n\nmri_data = get_mri(0, \"T1\")\nmri_data = mri_data[::-1, ...]\nfig, ax = plt.subplots(1, 3)\nax[0].imshow(mri_data[90, :, :])\nax[1].imshow(mri_data[:, 108, :])\nax[2].imshow(mri_data[:, :, 90])"
      ]
    },
    {
      "cell_type": "markdown",
      "metadata": {},
      "source": [
        "### Generate a Spiral trajectory\n\n"
      ]
    },
    {
      "cell_type": "code",
      "execution_count": null,
      "metadata": {
        "collapsed": false
      },
      "outputs": [],
      "source": [
        "from mrinufft import initialize_2D_spiral\nfrom mrinufft.density import voronoi\n\nsamples = initialize_2D_spiral(Nc=16, Ns=500, nb_revolutions=10)\ndensity = voronoi(samples)\n\ndisplay_2D_trajectory(samples)\n# specify locations for the stack of trajectories.\nkz_slices = np.arange(mri_data.shape[-1])"
      ]
    },
    {
      "cell_type": "markdown",
      "metadata": {},
      "source": [
        "## Setup the Operator\n\n"
      ]
    },
    {
      "cell_type": "code",
      "execution_count": null,
      "metadata": {
        "collapsed": false
      },
      "outputs": [],
      "source": [
        "from mrinufft.operators.stacked import MRIStackedNUFFT\n\nstacked_nufft = MRIStackedNUFFT(\n    samples=samples,\n    shape=mri_data.shape,\n    z_index=kz_slices,\n    backend=\"finufft\",\n    n_coils=1,\n    smaps=None,\n    density=density,\n)\n\nkspace_stack = stacked_nufft.op(mri_data)\nprint(kspace_stack.shape)\n\nmri_data_adj = stacked_nufft.adj_op(kspace_stack)\nmri_data_adj = np.squeeze(abs(mri_data_adj))\nprint(mri_data_adj.shape)\n\nfig2, ax2 = plt.subplots(1, 3)\nax2[0].imshow(mri_data_adj[90, :, :])\nax2[1].imshow(mri_data_adj[:, 108, :])\nax2[2].imshow(mri_data_adj[:, :, 90])\n\nplt.show()"
      ]
    }
  ],
  "metadata": {
    "kernelspec": {
      "display_name": "Python 3",
      "language": "python",
      "name": "python3"
    },
    "language_info": {
      "codemirror_mode": {
        "name": "ipython",
        "version": 3
      },
      "file_extension": ".py",
      "mimetype": "text/x-python",
      "name": "python",
      "nbconvert_exporter": "python",
      "pygments_lexer": "ipython3",
      "version": "3.10.14"
    }
  },
  "nbformat": 4,
  "nbformat_minor": 0
}