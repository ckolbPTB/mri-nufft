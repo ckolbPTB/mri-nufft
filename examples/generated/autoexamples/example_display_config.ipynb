{
  "cells": [
    {
      "cell_type": "markdown",
      "metadata": {},
      "source": [
        "\n# Trajectory display configuration\n\nThe look of the display trajectories can be tweaked by using :py:class:`displayConfig`\n\nYou can tune these parameters to your own taste and needs.\n"
      ]
    },
    {
      "cell_type": "code",
      "execution_count": null,
      "metadata": {
        "collapsed": false
      },
      "outputs": [],
      "source": [
        "import matplotlib as mpl\nimport matplotlib.pyplot as plt"
      ]
    },
    {
      "cell_type": "code",
      "execution_count": null,
      "metadata": {
        "collapsed": false
      },
      "outputs": [],
      "source": [
        "import numpy as np\n\nfrom mrinufft import display_2D_trajectory, display_3D_trajectory, displayConfig\nfrom mrinufft.trajectories import conify, initialize_2D_spiral\n\n# Trajectory parameters\nNc = 120  # Number of shots\nNs = 500  # Number of samples per shot\n\n# Display parameters\nfigure_size = 10  # Figure size for trajectory plots\nsubfigure_size = 6  # Figure size for subplots\none_shot = -5  # Highlight one shot in particular"
      ]
    },
    {
      "cell_type": "code",
      "execution_count": null,
      "metadata": {
        "collapsed": false
      },
      "outputs": [],
      "source": [
        "def show_traj(traj, name, values, **kwargs):\n    fig, axs = plt.subplots(\n        1,\n        len(values),\n        figsize=(subfigure_size * len(values), subfigure_size),\n        subplot_kw={\"projection\": \"3d\"},\n    )\n    for ax, val in zip(axs, values):\n        with displayConfig(**{name: val}):\n            display_3D_trajectory(traj, subfigure=ax, **kwargs)\n            ax.set_title(f\"{name}={val}\", fontsize=2 * subfigure_size)\n    plt.show()"
      ]
    },
    {
      "cell_type": "markdown",
      "metadata": {},
      "source": [
        "## Trajectory displays\nTo show case the display parameters of trajectories, we will use the following trajectory\nThe effect of trajectory parameter are explained in the `sphx_glr_generated_autoexamples_example_3D_trajectories.py` Example.\n\n"
      ]
    },
    {
      "cell_type": "code",
      "execution_count": null,
      "metadata": {
        "collapsed": false
      },
      "outputs": [],
      "source": [
        "traj = conify(initialize_2D_spiral(Nc // 6, Ns), nb_cones=6)[::-1]"
      ]
    },
    {
      "cell_type": "markdown",
      "metadata": {},
      "source": [
        "### ``linewidth``\nThe linewidth of the shot can be updated to have more or less empty space in the plot.\n\n"
      ]
    },
    {
      "cell_type": "code",
      "execution_count": null,
      "metadata": {
        "collapsed": false
      },
      "outputs": [],
      "source": [
        "show_traj(traj, \"linewidth\", [0.5, 2, 4])"
      ]
    },
    {
      "cell_type": "markdown",
      "metadata": {},
      "source": [
        "### ``palette``\nThe ``palette`` parameter allows to change the color of the shots.\n\n"
      ]
    },
    {
      "cell_type": "code",
      "execution_count": null,
      "metadata": {
        "collapsed": false
      },
      "outputs": [],
      "source": [
        "show_traj(traj, \"palette\", [\"tab10\", \"magma\", \"jet\"])"
      ]
    },
    {
      "cell_type": "markdown",
      "metadata": {},
      "source": [
        "### ``one_shot_color``\nThe ``one_shot_color`` parameter allows to highlight one shot in particular.\n\n"
      ]
    },
    {
      "cell_type": "code",
      "execution_count": null,
      "metadata": {
        "collapsed": false
      },
      "outputs": [],
      "source": [
        "with displayConfig(palette=\"viridis\"):\n    show_traj(\n        traj, \"one_shot_color\", [\"tab:blue\", \"tab:orange\", \"tab:green\"], one_shot=-5\n    )"
      ]
    },
    {
      "cell_type": "markdown",
      "metadata": {},
      "source": [
        "### ``nb_colors``\nThe ``nb_colors`` parameter allows to change the number of colors used to display the shots.\n\n"
      ]
    },
    {
      "cell_type": "code",
      "execution_count": null,
      "metadata": {
        "collapsed": false
      },
      "outputs": [],
      "source": [
        "show_traj(traj, \"nb_colors\", [1, 4, 10])"
      ]
    },
    {
      "cell_type": "markdown",
      "metadata": {},
      "source": [
        "## Labels, titles and legends\n\n"
      ]
    },
    {
      "cell_type": "markdown",
      "metadata": {},
      "source": [
        "### ``fontsize``\nThe ``fontsize`` parameter allows to change the fontsize of the labels /title\n\n"
      ]
    },
    {
      "cell_type": "code",
      "execution_count": null,
      "metadata": {
        "collapsed": false
      },
      "outputs": [],
      "source": [
        "show_traj(traj, \"fontsize\", [12, 18, 24])"
      ]
    },
    {
      "cell_type": "markdown",
      "metadata": {},
      "source": [
        "### ``pointsize``\nTo show the gradient constraint violation we can use the ``pointsize`` parameter\n\n"
      ]
    },
    {
      "cell_type": "code",
      "execution_count": null,
      "metadata": {
        "collapsed": false
      },
      "outputs": [],
      "source": [
        "show_traj(traj, \"pointsize\", [0.5, 2, 4], show_constraints=True)"
      ]
    },
    {
      "cell_type": "markdown",
      "metadata": {},
      "source": [
        "### ``gradient_point_color`` and ``slewrate_point_color``\nThe ``gradient_point_color`` and ``slewrate_point_color`` parameters allows to change the color of the points\nthat are violating the gradient or slewrate constraints.\n\n"
      ]
    },
    {
      "cell_type": "code",
      "execution_count": null,
      "metadata": {
        "collapsed": false
      },
      "outputs": [],
      "source": [
        "show_traj(\n    traj,\n    \"slewrate_point_color\",\n    [\"tab:blue\", \"tab:orange\", \"tab:red\"],\n    show_constraints=True,\n)"
      ]
    },
    {
      "cell_type": "markdown",
      "metadata": {},
      "source": [
        "## Gradients profiles\n\n"
      ]
    }
  ],
  "metadata": {
    "kernelspec": {
      "display_name": "Python 3",
      "language": "python",
      "name": "python3"
    },
    "language_info": {
      "codemirror_mode": {
        "name": "ipython",
        "version": 3
      },
      "file_extension": ".py",
      "mimetype": "text/x-python",
      "name": "python",
      "nbconvert_exporter": "python",
      "pygments_lexer": "ipython3",
      "version": "3.10.14"
    }
  },
  "nbformat": 4,
  "nbformat_minor": 0
}