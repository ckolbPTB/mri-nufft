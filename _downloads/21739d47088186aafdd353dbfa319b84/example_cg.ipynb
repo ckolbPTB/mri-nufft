{
  "cells": [
    {
      "cell_type": "markdown",
      "metadata": {},
      "source": [
        "\n# Reconstruction with conjugate gradient\n\nAn example to show how to reconstruct volumes using conjugate gradient method.\n\nThis script demonstrates the use of the Conjugate Gradient (CG) method\nfor solving systems of linear equations of the form Ax = b, where A is a symmetric\npositive-definite matrix. The CG method is an iterative algorithm that is particularly\nuseful for large, sparse systems where direct methods are computationally expensive.\n\nThe Conjugate Gradient method is widely used in various scientific and engineering\napplications, including solving partial differential equations, optimization problems,\nand machine learning tasks.\n\n## References\n- Inpirations:\n        - https://sigpy.readthedocs.io/en/latest/_modules/sigpy/alg.html#ConjugateGradient\n        - https://aquaulb.github.io/book_solving_pde_mooc/solving_pde_mooc/notebooks/05_IterativeMethods/05_02_Conjugate_Gradient.html\n- Wikipedia:\n        - https://en.wikipedia.org/wiki/Conjugate_gradient_method\n        - https://en.wikipedia.org/wiki/Momentum\n"
      ]
    },
    {
      "cell_type": "markdown",
      "metadata": {},
      "source": [
        "Imports\n\n"
      ]
    },
    {
      "cell_type": "code",
      "execution_count": null,
      "metadata": {
        "collapsed": false
      },
      "outputs": [],
      "source": [
        "import numpy as np\nimport mrinufft\nfrom brainweb_dl import get_mri\nfrom mrinufft.extras.gradient import cg\nfrom mrinufft.density import voronoi\nfrom matplotlib import pyplot as plt"
      ]
    },
    {
      "cell_type": "markdown",
      "metadata": {},
      "source": [
        "Setup Inputs\n\n"
      ]
    },
    {
      "cell_type": "code",
      "execution_count": null,
      "metadata": {
        "collapsed": false
      },
      "outputs": [],
      "source": [
        "samples_loc = mrinufft.initialize_2D_spiral(Nc=64, Ns=256)\nimage = get_mri(sub_id=4)\nimage = np.flipud(image[90])"
      ]
    },
    {
      "cell_type": "markdown",
      "metadata": {},
      "source": [
        "Setup the NUFFT operator\n\n"
      ]
    },
    {
      "cell_type": "code",
      "execution_count": null,
      "metadata": {
        "collapsed": false
      },
      "outputs": [],
      "source": [
        "NufftOperator = mrinufft.get_operator(\"gpunufft\")  # get the operator\ndensity = voronoi(samples_loc)  # get the density\n\nnufft = NufftOperator(\n    samples_loc,\n    shape=image.shape,\n    density=density,\n    n_coils=1,\n)  # create the NUFFT operator"
      ]
    },
    {
      "cell_type": "markdown",
      "metadata": {},
      "source": [
        "Reconstruct the image using the CG method\n\n"
      ]
    },
    {
      "cell_type": "code",
      "execution_count": null,
      "metadata": {
        "collapsed": false
      },
      "outputs": [],
      "source": [
        "kspace_data = nufft.op(image)  # get the k-space data\nreconstructed_image = cg(nufft, kspace_data)  # reconstruct the image"
      ]
    },
    {
      "cell_type": "markdown",
      "metadata": {},
      "source": [
        "Display the results\n\n"
      ]
    },
    {
      "cell_type": "code",
      "execution_count": null,
      "metadata": {
        "collapsed": false
      },
      "outputs": [],
      "source": [
        "plt.figure(figsize=(9, 3))\nplt.subplot(1, 3, 1)\nplt.title(\"Original image\")\nplt.imshow(abs(image), cmap=\"gray\")\n\nplt.subplot(1, 3, 2)\nplt.title(\"Conjugate gradient\")\nplt.imshow(abs(reconstructed_image), cmap=\"gray\")\n\nplt.subplot(1, 3, 3)\nplt.title(\"Adjoint NUFFT\")\nplt.imshow(abs(nufft.adj_op(kspace_data)), cmap=\"gray\")\n\nplt.show()"
      ]
    }
  ],
  "metadata": {
    "kernelspec": {
      "display_name": "Python 3",
      "language": "python",
      "name": "python3"
    },
    "language_info": {
      "codemirror_mode": {
        "name": "ipython",
        "version": 3
      },
      "file_extension": ".py",
      "mimetype": "text/x-python",
      "name": "python",
      "nbconvert_exporter": "python",
      "pygments_lexer": "ipython3",
      "version": "3.10.14"
    }
  },
  "nbformat": 4,
  "nbformat_minor": 0
}