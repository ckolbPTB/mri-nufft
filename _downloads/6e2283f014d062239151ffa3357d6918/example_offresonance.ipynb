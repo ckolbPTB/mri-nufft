{
  "cells": [
    {
      "cell_type": "markdown",
      "metadata": {},
      "source": [
        "\n# Off-resonance Corrected NUFFT Operator\n\nExample of Off-resonance Corrected NUFFT trajectory operator.\n\nThis examples show how to use the Off-resonance Corrected NUFFT operator to acquire \nand reconstruct data in presence of field inhomogeneities.\nHere a spiral trajectory is used as a demonstration.\n"
      ]
    },
    {
      "cell_type": "code",
      "execution_count": null,
      "metadata": {
        "collapsed": false
      },
      "outputs": [],
      "source": [
        "import matplotlib.pyplot as plt\nimport numpy as np\n\nfrom mrinufft import display_2D_trajectory\n\nplt.rcParams[\"image.cmap\"] = \"gray\""
      ]
    },
    {
      "cell_type": "markdown",
      "metadata": {},
      "source": [
        "## Data Generation\nFor realistic 2D image we will use a slice from the brainweb dataset.\ninstallable using ``pip install brainweb-dl``\n\n"
      ]
    },
    {
      "cell_type": "code",
      "execution_count": null,
      "metadata": {
        "collapsed": false
      },
      "outputs": [],
      "source": [
        "from brainweb_dl import get_mri\n\nmri_data = get_mri(0, \"T1\")\nmri_data = mri_data[::-1, ...][90]\nplt.imshow(mri_data), plt.axis(\"off\"), plt.title(\"ground truth\")"
      ]
    },
    {
      "cell_type": "markdown",
      "metadata": {},
      "source": [
        "## Masking\nHere, we generate a binary mask to exclude the background.\nWe perform a simple binary threshold; in real-world application,\nit is advised to use other tools (e.g., FSL-BET).\n\n"
      ]
    },
    {
      "cell_type": "code",
      "execution_count": null,
      "metadata": {
        "collapsed": false
      },
      "outputs": [],
      "source": [
        "brain_mask = mri_data > 0.1 * mri_data.max()\nplt.imshow(brain_mask), plt.axis(\"off\"), plt.title(\"brain mask\")"
      ]
    },
    {
      "cell_type": "markdown",
      "metadata": {},
      "source": [
        "## Field Generation\nHere, we generate a radial B0 field with the same shape of\nthe input Shepp-Logan phantom\n\n"
      ]
    },
    {
      "cell_type": "code",
      "execution_count": null,
      "metadata": {
        "collapsed": false
      },
      "outputs": [],
      "source": [
        "from mrinufft.extras import make_b0map\n\n# generate field\nb0map, _ = make_b0map(mri_data.shape, b0range=(-200, 200), mask=brain_mask)\nplt.imshow(brain_mask * b0map, cmap=\"bwr\", vmin=-200, vmax=200), plt.axis(\n    \"off\"\n), plt.colorbar(), plt.title(\"B0 map [Hz]\")"
      ]
    },
    {
      "cell_type": "markdown",
      "metadata": {},
      "source": [
        "### Generate a Spiral trajectory\n\n"
      ]
    },
    {
      "cell_type": "code",
      "execution_count": null,
      "metadata": {
        "collapsed": false
      },
      "outputs": [],
      "source": [
        "from mrinufft import initialize_2D_spiral\nfrom mrinufft.density import voronoi\nfrom mrinufft.trajectories.utils import DEFAULT_RASTER_TIME\n\nsamples = initialize_2D_spiral(Nc=48, Ns=600, nb_revolutions=10)\nt_read = np.arange(samples.shape[1]) * DEFAULT_RASTER_TIME * 1e-3\nt_read = np.repeat(t_read[None, ...], samples.shape[0], axis=0)\ndensity = voronoi(samples)\n\ndisplay_2D_trajectory(samples)"
      ]
    },
    {
      "cell_type": "markdown",
      "metadata": {},
      "source": [
        "## Setup the Operator\n\n"
      ]
    },
    {
      "cell_type": "code",
      "execution_count": null,
      "metadata": {
        "collapsed": false
      },
      "outputs": [],
      "source": [
        "from mrinufft import get_operator\nfrom mrinufft.operators.off_resonance import MRIFourierCorrected\n\n# Generate standard NUFFT operator\nnufft = get_operator(\"finufft\")(\n    samples=samples,\n    shape=mri_data.shape,\n    density=density,\n)\n\n# Generate Fourier Corrected operator\nmfi_nufft = MRIFourierCorrected(\n    nufft, b0_map=b0map, readout_time=t_read, mask=brain_mask\n)\n\n# Generate K-Space\nkspace = mfi_nufft.op(mri_data)\n\n# Reconstruct without field correction\nmri_data_adj = nufft.adj_op(kspace)\nmri_data_adj = np.squeeze(abs(mri_data_adj))\n\n# Reconstruct with field correction\nmri_data_adj_mfi = mfi_nufft.adj_op(kspace)\nmri_data_adj_mfi = np.squeeze(abs(mri_data_adj_mfi))\n\nfig2, ax2 = plt.subplots(1, 2)\nax2[0].imshow(mri_data_adj), ax2[0].axis(\"off\"), ax2[0].set_title(\"w/o correction\")\nax2[1].imshow(mri_data_adj_mfi), ax2[1].axis(\"off\"), ax2[1].set_title(\"with correction\")\n\nplt.show()"
      ]
    },
    {
      "cell_type": "markdown",
      "metadata": {},
      "source": [
        "The blurring is significantly reduced using the Off-resonance Corrected\noperator (right)\n\n"
      ]
    }
  ],
  "metadata": {
    "kernelspec": {
      "display_name": "Python 3",
      "language": "python",
      "name": "python3"
    },
    "language_info": {
      "codemirror_mode": {
        "name": "ipython",
        "version": 3
      },
      "file_extension": ".py",
      "mimetype": "text/x-python",
      "name": "python",
      "nbconvert_exporter": "python",
      "pygments_lexer": "ipython3",
      "version": "3.10.14"
    }
  },
  "nbformat": 4,
  "nbformat_minor": 0
}